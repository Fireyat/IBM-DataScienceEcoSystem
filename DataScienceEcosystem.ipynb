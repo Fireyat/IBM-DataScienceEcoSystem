{
 "cells": [
  {
   "cell_type": "markdown",
   "id": "0e28096a",
   "metadata": {},
   "source": [
    "# Exercise 1: Create a Jupyter Notebook"
   ]
  },
  {
   "cell_type": "markdown",
   "id": "2f76e181",
   "metadata": {},
   "source": [
    "## Name: Peer-graded Assignment"
   ]
  },
  {
   "cell_type": "markdown",
   "id": "d790c450",
   "metadata": {},
   "source": [
    "#### Exercise 2 - Create a markdown cell with the title of the notebook"
   ]
  },
  {
   "cell_type": "markdown",
   "id": "58ae8878",
   "metadata": {},
   "source": [
    "# Data Science Tools and Ecosystem"
   ]
  },
  {
   "cell_type": "markdown",
   "id": "07fcd2a8",
   "metadata": {},
   "source": [
    "#### Exercise 3 - Create a markdown cell for an introduction"
   ]
  },
  {
   "cell_type": "markdown",
   "id": "689176f8",
   "metadata": {},
   "source": [
    "In this notebook, Data Science Tools and Ecosystem are summarized"
   ]
  },
  {
   "cell_type": "markdown",
   "id": "aa2d5a1f",
   "metadata": {},
   "source": [
    "The objectives are:\n",
    "\n",
    "- to list common data science languages\n",
    "- to list common data science libraries\n"
   ]
  },
  {
   "cell_type": "markdown",
   "id": "7d67ad5f",
   "metadata": {},
   "source": [
    "#### Exercise 4 - Create a markdown cell to list data science languages"
   ]
  },
  {
   "cell_type": "markdown",
   "id": "b254b1cf",
   "metadata": {},
   "source": [
    "Some of the popular languages that Data Scientists use are:\n",
    "\n",
    "    1. Python\n",
    "    2. R\n",
    "    3. SQL\n",
    "    4. Java\n",
    "    5. Scala\n",
    "    6. C++\n",
    "    7. Julia\n",
    "    "
   ]
  },
  {
   "cell_type": "markdown",
   "id": "7ad3e3ff",
   "metadata": {},
   "source": [
    "#### Exercise 5 - Create a markdown cell to list data science libraries"
   ]
  },
  {
   "cell_type": "markdown",
   "id": "1d562fb0",
   "metadata": {},
   "source": [
    "Some of the commonly used libraries used by Data Scientists include:\n",
    "\n",
    "- Scientific Computing Libraries: Pandas, NumPy\n",
    "- Visualization: Matplotlib, Seaborn, Vegas, ggplot2\n",
    "- Machine Learning and Deep Learning: Scikit, Keras\n",
    "- Deep Learning: Tensorflow, PyTorch, BigDL\n",
    "    "
   ]
  },
  {
   "cell_type": "markdown",
   "id": "e9feab27",
   "metadata": {},
   "source": [
    "#### Exercise 6 - Create a markdown cell with a table of Data Science tools"
   ]
  },
  {
   "cell_type": "markdown",
   "id": "532c5e5d",
   "metadata": {},
   "source": [
    "Tabular view of Data Science tools"
   ]
  },
  {
   "cell_type": "markdown",
   "id": "7aaca8dd",
   "metadata": {},
   "source": [
    "|        Data Science Tools        | \n",
    "|:--------------------------------:|\n",
    "|         Jupyter Notebook         |\n",
    "|----------------------------------|\n",
    "|             BigML                |\n",
    "|----------------------------------|\n",
    "|         Apache Spark             |\n",
    "\n"
   ]
  },
  {
   "cell_type": "markdown",
   "id": "92acc408",
   "metadata": {},
   "source": [
    "#### Exercise 7 - Create a markdown cell introducing arithmetic expression examples"
   ]
  },
  {
   "cell_type": "markdown",
   "id": "cdf8b1c0",
   "metadata": {},
   "source": [
    "### Below are a few examples of evaluating arithmetic expressions in Python"
   ]
  },
  {
   "cell_type": "code",
   "execution_count": 1,
   "id": "bb8148a8",
   "metadata": {},
   "outputs": [
    {
     "name": "stdout",
     "output_type": "stream",
     "text": [
      "7.0\n"
     ]
    }
   ],
   "source": [
    "x = 2.5\n",
    "y = 4.5\n",
    "result = x + y\n",
    "print(result)\n",
    "# Result is 7.0"
   ]
  },
  {
   "cell_type": "code",
   "execution_count": 2,
   "id": "61204f24",
   "metadata": {},
   "outputs": [
    {
     "name": "stdout",
     "output_type": "stream",
     "text": [
      "1\n"
     ]
    }
   ],
   "source": [
    "a = 21\n",
    "b = 4\n",
    "result_ = a % b\n",
    "print(result_)\n",
    "# Result is 1"
   ]
  },
  {
   "cell_type": "markdown",
   "id": "4cf0a660",
   "metadata": {},
   "source": [
    "#### Exercise 8 - Create a code cell to multiply and add numbers"
   ]
  },
  {
   "cell_type": "code",
   "execution_count": 6,
   "id": "202b83a7",
   "metadata": {},
   "outputs": [
    {
     "name": "stdout",
     "output_type": "stream",
     "text": [
      "17\n"
     ]
    }
   ],
   "source": [
    "# This a simple arithmetic expression to mutiply then add integers\n",
    "multiply_and_add = (3*4)+5\n",
    "print(multiply_and_add)"
   ]
  },
  {
   "cell_type": "markdown",
   "id": "79d6daec",
   "metadata": {},
   "source": [
    "#### Exercise 9 - Create a code cell to convert minutes to hours"
   ]
  },
  {
   "cell_type": "code",
   "execution_count": 5,
   "id": "99ac831e",
   "metadata": {},
   "outputs": [
    {
     "name": "stdout",
     "output_type": "stream",
     "text": [
      "200 minutes = 3 hours and 20 minutes.\n"
     ]
    }
   ],
   "source": [
    "# Python code to convert minutes into hours\n",
    "minutes = 200\n",
    "# conversion of minute to hour\n",
    "hours = minutes // 60\n",
    "left_minutes = minutes % 60\n",
    "print(f\"{minutes} minutes = {hours} hours and {left_minutes} minutes.\")"
   ]
  },
  {
   "cell_type": "markdown",
   "id": "22bffc0e",
   "metadata": {},
   "source": [
    "#### Exercise 10 - Insert a markdown cell to list Objectives"
   ]
  },
  {
   "cell_type": "markdown",
   "id": "d87d0a86",
   "metadata": {},
   "source": [
    "## Objectives\n",
    "The main objectives of this course as give on Exercise 3 are about the major programming languages used by Data Scientists and the most common libraries used in Data Science as given on Exercises 4 and 5.\n",
    "\n",
    "List of Popular Languages for Data Science\n",
    "\n",
    "- Python\n",
    "- SQL\n",
    "- R\n",
    "- Scala\n",
    "- Java"
   ]
  },
  {
   "cell_type": "markdown",
   "id": "249d5922",
   "metadata": {},
   "source": [
    "#### Exercise 11 - Create a markdown cell to indicate the Author’s name"
   ]
  },
  {
   "cell_type": "markdown",
   "id": "8ff7a079",
   "metadata": {},
   "source": [
    "## Author: \n",
    "Fireyat Hadish Aregawi"
   ]
  },
  {
   "cell_type": "markdown",
   "id": "173bf71f",
   "metadata": {},
   "source": [
    "##### Exercise 12 - Share your notebook through GitHub"
   ]
  },
  {
   "cell_type": "code",
   "execution_count": null,
   "id": "bea62bef",
   "metadata": {},
   "outputs": [],
   "source": []
  }
 ],
 "metadata": {
  "kernelspec": {
   "display_name": "Python 3 (ipykernel)",
   "language": "python",
   "name": "python3"
  },
  "language_info": {
   "codemirror_mode": {
    "name": "ipython",
    "version": 3
   },
   "file_extension": ".py",
   "mimetype": "text/x-python",
   "name": "python",
   "nbconvert_exporter": "python",
   "pygments_lexer": "ipython3",
   "version": "3.10.9"
  }
 },
 "nbformat": 4,
 "nbformat_minor": 5
}
